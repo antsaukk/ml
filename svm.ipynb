{
 "cells": [
  {
   "cell_type": "code",
   "execution_count": 20,
   "metadata": {},
   "outputs": [],
   "source": [
    "\"\"\" this note book implements two nonlinear classification algorithms: \n",
    "    support vector machines with soft margin and it dual version with linear kernel\n",
    "    computes optimal separating hyperplanes on load breast cancer dataset and displays pearson correlation \n",
    "    between classifiers \"\"\"\n",
    "\n",
    "import numpy as np\n",
    "from sklearn.datasets import load_breast_cancer\n",
    "\n",
    "shift = True\n",
    "scale = True"
   ]
  },
  {
   "cell_type": "code",
   "execution_count": 21,
   "metadata": {},
   "outputs": [],
   "source": [
    "# load the data\n",
    "X, Y = load_breast_cancer(return_X_y=True)"
   ]
  },
  {
   "cell_type": "code",
   "execution_count": 22,
   "metadata": {},
   "outputs": [],
   "source": [
    "# to convert the {0,1} output into {-1,+1}\n",
    "if shift:\n",
    "    Y = 2*Y - 1"
   ]
  },
  {
   "cell_type": "code",
   "execution_count": 23,
   "metadata": {},
   "outputs": [
    {
     "name": "stdout",
     "output_type": "stream",
     "text": [
      "(569, 30)\n",
      "(569,)\n"
     ]
    }
   ],
   "source": [
    "mdata,ndim = X.shape\n",
    "\n",
    "print(X.shape)\n",
    "print(Y.shape)"
   ]
  },
  {
   "cell_type": "code",
   "execution_count": 24,
   "metadata": {},
   "outputs": [],
   "source": [
    "# scale each of the input variables to have the maximum absolute value equal to 1 \n",
    "if scale:\n",
    "    X /= np.outer(np.ones(mdata),np.max(np.abs(X),0))"
   ]
  },
  {
   "cell_type": "code",
   "execution_count": 41,
   "metadata": {},
   "outputs": [],
   "source": [
    "# stochastic gradient descent algorithm for soft-margin support vector machines\n",
    "def stochastic_gradient_descent_sm(X, Y, lambda_ = 0.01, eta_ = 0.1, epochs = 10): \n",
    "    w = np.zeros(ndim)\n",
    "    gradient = np.zeros(ndim)\n",
    "    \n",
    "    for _ in range(epochs):\n",
    "        for i in range(mdata):\n",
    "            if (np.dot(X[i], w)*Y[i] < 1): \n",
    "                gradient = -Y[i]*X[i] + lambda_*w\n",
    "            else:\n",
    "                gradient = lambda_*w\n",
    "            w = w - eta_*gradient\n",
    "    \n",
    "    return w"
   ]
  },
  {
   "cell_type": "code",
   "execution_count": 74,
   "metadata": {},
   "outputs": [],
   "source": [
    "# linear kernel\n",
    "def kernel(u, v):\n",
    "    return np.dot(u, v)\n",
    "\n",
    "K = np.dot(X, X.T)"
   ]
  },
  {
   "cell_type": "code",
   "execution_count": 75,
   "metadata": {},
   "outputs": [],
   "source": [
    "# stochastic dual coordinate descent algorithm for support vector machines\n",
    "def stochastic_dual_coordinate_ascent(X, Y, C=1000, epochs = 10): \n",
    "    alpha = np.zeros(mdata)\n",
    "    \n",
    "    for _ in range(epochs):\n",
    "        for i in range(mdata):\n",
    "            \"\"\"sm = 0\n",
    "            for j in range(mdata):\n",
    "                if j==i:\n",
    "                    continue\n",
    "                else:\n",
    "                    sm += alpha[j] * Y[j] * K[i, j]\"\"\"\n",
    "            alpha[i] = (1 - Y[i] * (np.sum(K[i] * Y * alpha) - alpha[i] * Y[i] * K[i, i])) / K[i, i]\n",
    "            alpha[i] = min(C/mdata, max(0, alpha[i]))\n",
    "    return alpha"
   ]
  },
  {
   "cell_type": "code",
   "execution_count": 76,
   "metadata": {},
   "outputs": [
    {
     "name": "stdout",
     "output_type": "stream",
     "text": [
      "[ 0.1577998  -0.07338511  0.05409096 -0.74451105  1.04258952 -0.39120249\n",
      " -1.52575812 -1.68575933  0.93783183  1.90232994 -0.68649229  0.13980422\n",
      " -0.54062695 -0.60711913  0.11643549  0.13389808  0.12972715  0.07995812\n",
      "  0.34689575  0.31577184 -0.34043639 -0.38152709 -0.36428237 -0.9781163\n",
      "  0.46601817 -0.67709888 -1.14472687 -1.65195119  0.21446617  0.55636185]\n"
     ]
    }
   ],
   "source": [
    "weights = stochastic_gradient_descent_sm(X, Y, epochs=10)\n",
    "print(weights)"
   ]
  },
  {
   "cell_type": "code",
   "execution_count": 77,
   "metadata": {},
   "outputs": [],
   "source": [
    "alpha = stochastic_dual_coordinate_ascent(X, Y, epochs=10)"
   ]
  },
  {
   "cell_type": "code",
   "execution_count": 78,
   "metadata": {},
   "outputs": [
    {
     "name": "stdout",
     "output_type": "stream",
     "text": [
      "[ 1.15447157 -1.23787938  0.93494548 -1.10063657  1.84027672 -0.50318653\n",
      " -2.45999222 -3.32013741  1.41272459  4.47158206 -1.92444264  0.37357132\n",
      " -1.26700269 -1.4852953  -0.60187186  1.20391973  1.08144463  0.84023283\n",
      "  0.41254023  0.53459172 -0.39161541 -1.81432296 -0.38131352 -2.05273578\n",
      "  0.27112611 -1.16668102 -1.24719523 -2.60446236 -0.69437082  0.98602932]\n"
     ]
    }
   ],
   "source": [
    "dual_weights = np.zeros(ndim) #np.sum(alpha * Y * X[i])\n",
    "for i in range(len(Y)):\n",
    "    dual_weights += alpha[i] * Y[i]* X[i]\n",
    "print(dual_weights)"
   ]
  },
  {
   "cell_type": "code",
   "execution_count": 79,
   "metadata": {},
   "outputs": [
    {
     "name": "stdout",
     "output_type": "stream",
     "text": [
      "[[1.         0.92227312]\n",
      " [0.92227312 1.        ]]\n"
     ]
    }
   ],
   "source": [
    "print(np.corrcoef(weights, dual_weights))"
   ]
  },
  {
   "cell_type": "code",
   "execution_count": 48,
   "metadata": {},
   "outputs": [
    {
     "data": {
      "text/plain": [
       "5.076522602387895"
      ]
     },
     "execution_count": 48,
     "metadata": {},
     "output_type": "execute_result"
    }
   ],
   "source": [
    "np.linalg.norm(weights - dual_weights)"
   ]
  }
 ],
 "metadata": {
  "kernelspec": {
   "display_name": "Python 3",
   "language": "python",
   "name": "python3"
  },
  "language_info": {
   "codemirror_mode": {
    "name": "ipython",
    "version": 3
   },
   "file_extension": ".py",
   "mimetype": "text/x-python",
   "name": "python",
   "nbconvert_exporter": "python",
   "pygments_lexer": "ipython3",
   "version": "3.8.6"
  }
 },
 "nbformat": 4,
 "nbformat_minor": 4
}
