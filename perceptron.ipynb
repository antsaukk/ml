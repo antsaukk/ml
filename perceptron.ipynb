{
 "cells": [
  {
   "cell_type": "code",
   "execution_count": 36,
   "metadata": {},
   "outputs": [],
   "source": [
    "# perceptron algorithm implemented on breask cnacer dataset\n",
    "\n",
    "import sys\n",
    "import numpy as np\n",
    "from sklearn.datasets import load_breast_cancer\n",
    "from sklearn.model_selection import KFold\n",
    "from sklearn.metrics import f1_score\n",
    "from sklearn.model_selection import train_test_split\n",
    "\n",
    "shift = True\n",
    "scale = False"
   ]
  },
  {
   "cell_type": "code",
   "execution_count": 37,
   "metadata": {},
   "outputs": [
    {
     "name": "stdout",
     "output_type": "stream",
     "text": [
      "(569, 30) (569,)\n"
     ]
    }
   ],
   "source": [
    "# load the data\n",
    "X, y = load_breast_cancer(return_X_y=True)\n",
    "mdata,ndim = X.shape\n",
    "\n",
    "print(X.shape, y.shape)"
   ]
  },
  {
   "cell_type": "code",
   "execution_count": 38,
   "metadata": {},
   "outputs": [],
   "source": [
    "# to convert the {0,1} output into {-1,+1}\n",
    "if shift:\n",
    "    Y = 2*y - 1"
   ]
  },
  {
   "cell_type": "code",
   "execution_count": 39,
   "metadata": {},
   "outputs": [],
   "source": [
    "if scale:\n",
    "    X /= np.outer(np.ones(mdata),np.max(np.abs(X),0))"
   ]
  },
  {
   "cell_type": "code",
   "execution_count": 40,
   "metadata": {},
   "outputs": [],
   "source": [
    "def perceptron(X, Y):\n",
    "    w = np.zeros(X[0].shape)\n",
    "    eta = 1\n",
    "    epochs = 8 if scale else 20\n",
    "    for j in range(epochs):\n",
    "        for i, x in enumerate(X):\n",
    "            if (np.dot(X[i], w)*Y[i]) <= 0:\n",
    "                w = w + eta*X[i]*Y[i]\n",
    "    \n",
    "    return w"
   ]
  },
  {
   "cell_type": "code",
   "execution_count": 41,
   "metadata": {},
   "outputs": [],
   "source": [
    "def predict(y_hat):\n",
    "    return 1.0 if y_hat >= 0.0 else 0.0"
   ]
  },
  {
   "cell_type": "code",
   "execution_count": 42,
   "metadata": {},
   "outputs": [
    {
     "name": "stdout",
     "output_type": "stream",
     "text": [
      "[0.    0.575]\n",
      "[0.         0.72625698]\n",
      "[0.         0.78723404]\n",
      "[0.         0.85427136]\n",
      "[0.   0.87]\n",
      "The average F1: [0.         0.76255248]\n"
     ]
    }
   ],
   "source": [
    "nfold = 5                                                                      \n",
    "kf = KFold(n_splits=nfold, random_state=None, shuffle=False)                  \n",
    "f1 = []                                                                        \n",
    "\n",
    "for train_index, test_index in kf.split(X,y):                                  \n",
    "    X_train, X_test = X[train_index], X[test_index]                            \n",
    "    y_train, y_test = y[train_index], y[test_index]\n",
    "    \n",
    "    weights = perceptron(X_train, y_train)\n",
    "\n",
    "    y_pred = list(map(predict, np.dot(X_test, weights)))\n",
    "        \n",
    "    score = f1_score(y_test, y_pred, average=None)\n",
    "    print(score) \n",
    "    f1.append(score)\n",
    "print('The average F1:', sum(f1)/nfold)"
   ]
  },
  {
   "cell_type": "code",
   "execution_count": null,
   "metadata": {},
   "outputs": [],
   "source": []
  }
 ],
 "metadata": {
  "kernelspec": {
   "display_name": "Python 3",
   "language": "python",
   "name": "python3"
  },
  "language_info": {
   "codemirror_mode": {
    "name": "ipython",
    "version": 3
   },
   "file_extension": ".py",
   "mimetype": "text/x-python",
   "name": "python",
   "nbconvert_exporter": "python",
   "pygments_lexer": "ipython3",
   "version": "3.8.6"
  }
 },
 "nbformat": 4,
 "nbformat_minor": 4
}
