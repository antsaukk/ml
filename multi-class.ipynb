{
 "cells": [
  {
   "cell_type": "code",
   "execution_count": 1,
   "metadata": {},
   "outputs": [],
   "source": [
    "import numpy as np\n",
    "import matplotlib.pyplot as plt\n",
    "from sklearn.metrics import accuracy_score\n",
    "# the data\n",
    "from sklearn.datasets import make_blobs\n",
    "# linear models\n",
    "from sklearn.linear_model import Perceptron, LinearRegression\n",
    "# multi-class models\n",
    "from sklearn.multiclass import OneVsOneClassifier, OneVsRestClassifier, OutputCodeClassifier"
   ]
  },
  {
   "cell_type": "code",
   "execution_count": 2,
   "metadata": {},
   "outputs": [],
   "source": [
    "# Create the dataset\n",
    "C = 4\n",
    "n = 800\n",
    "X, y = make_blobs(n, centers=C, random_state=0)"
   ]
  },
  {
   "cell_type": "code",
   "execution_count": 3,
   "metadata": {},
   "outputs": [],
   "source": [
    "# create indices for train/dev sets\n",
    "np.random.seed(0)\n",
    "order = np.random.permutation(n)\n",
    "tr = order[:int(n/2)]\n",
    "tst = order[int(n/2):]"
   ]
  },
  {
   "cell_type": "code",
   "execution_count": 4,
   "metadata": {},
   "outputs": [],
   "source": [
    "Xt = X[tst, :]\n",
    "yt = y[tst]\n",
    "X = X[tr, :]\n",
    "y = y[tr]"
   ]
  },
  {
   "cell_type": "code",
   "execution_count": 5,
   "metadata": {},
   "outputs": [],
   "source": [
    "# use perceptron with default parameters as the base classifier for the multi-class methods\n",
    "linear_classifier = Perceptron()"
   ]
  },
  {
   "cell_type": "code",
   "execution_count": 6,
   "metadata": {},
   "outputs": [
    {
     "name": "stdout",
     "output_type": "stream",
     "text": [
      "0.9225\n"
     ]
    }
   ],
   "source": [
    "# OVO \n",
    "ovo_clf = OneVsOneClassifier(linear_classifier).fit(X, y)\n",
    "print(accuracy_score(yt, ovo_clf.predict(Xt)))"
   ]
  },
  {
   "cell_type": "code",
   "execution_count": 7,
   "metadata": {},
   "outputs": [
    {
     "name": "stdout",
     "output_type": "stream",
     "text": [
      "0.7575\n"
     ]
    }
   ],
   "source": [
    "# OVA \n",
    "ova_clf = OneVsRestClassifier(linear_classifier).fit(X, y)\n",
    "print(accuracy_score(yt, ova_clf.predict(Xt)))"
   ]
  },
  {
   "cell_type": "code",
   "execution_count": 8,
   "metadata": {},
   "outputs": [
    {
     "name": "stdout",
     "output_type": "stream",
     "text": [
      "0.63\n"
     ]
    }
   ],
   "source": [
    "# ECOC \n",
    "ecoc_clf = OutputCodeClassifier(linear_classifier, random_state=42).fit(X, y)\n",
    "print(accuracy_score(yt, ecoc_clf.predict(Xt)))"
   ]
  },
  {
   "cell_type": "code",
   "execution_count": 9,
   "metadata": {},
   "outputs": [],
   "source": [
    "linreg = LinearRegression()"
   ]
  },
  {
   "cell_type": "code",
   "execution_count": 27,
   "metadata": {},
   "outputs": [],
   "source": [
    "X_l = []\n",
    "y_l = []\n",
    "for size in np.arange(0.3, 4.1, 0.1):\n",
    "    ecoc_clf_t = OutputCodeClassifier(linear_classifier, code_size=size, random_state=42).fit(X, y)\n",
    "    X_l.append(ecoc_clf_t.code_book_.shape[1])\n",
    "    #print(ecoc_clf_t.code_book_)\n",
    "    acc = accuracy_score(yt, ecoc_clf_t.predict(Xt))*100\n",
    "    assert(acc >= 0 and acc <= 100)\n",
    "    y_l.append(acc)\n",
    "X_l = np.asarray(X_l)\n",
    "y_l = np.asarray(y_l)\n",
    "#print(X_l)\n",
    "#print(y_l)"
   ]
  },
  {
   "cell_type": "code",
   "execution_count": 28,
   "metadata": {},
   "outputs": [],
   "source": [
    "lg = linreg.fit(X_l.reshape(-1,1), y_l)"
   ]
  },
  {
   "cell_type": "code",
   "execution_count": 29,
   "metadata": {},
   "outputs": [
    {
     "name": "stdout",
     "output_type": "stream",
     "text": [
      "[2.02519352]\n"
     ]
    }
   ],
   "source": [
    "print(lg.coef_)"
   ]
  }
 ],
 "metadata": {
  "kernelspec": {
   "display_name": "Python 3",
   "language": "python",
   "name": "python3"
  },
  "language_info": {
   "codemirror_mode": {
    "name": "ipython",
    "version": 3
   },
   "file_extension": ".py",
   "mimetype": "text/x-python",
   "name": "python",
   "nbconvert_exporter": "python",
   "pygments_lexer": "ipython3",
   "version": "3.8.6"
  }
 },
 "nbformat": 4,
 "nbformat_minor": 4
}
